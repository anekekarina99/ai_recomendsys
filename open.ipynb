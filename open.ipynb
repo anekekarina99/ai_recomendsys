import pandas as pd
from sklearn.feature_extraction.text import TfidfVectorizer
from sklearn.metrics.pairwise import cosine_similarity

# 1. TF-IDF Vectorization untuk kolom teks 'cleaned_description'
def tfidf_vectorize(data, text_column='cleaned_description'):
    """Mengubah kolom teks menjadi representasi numerik menggunakan TF-IDF"""
    vectorizer = TfidfVectorizer()
    tfidf_matrix = vectorizer.fit_transform(data[text_column])
    return tfidf_matrix, vectorizer

# 2. Menghitung Kemiripan Antar Query
def compute_query_similarity(tfidf_matrix):
    """Menghitung kemiripan antar query menggunakan cosine similarity"""
    return cosine_similarity(tfidf_matrix)

# 3. Menemukan Query yang Mirip
def find_similar_queries(query_index, similarity_matrix, top_n=5):
    """Mengembalikan index dari query-query paling mirip berdasarkan cosine similarity"""
    similarities = similarity_matrix[query_index]
    similar_queries = similarities.argsort()[::-1][1:top_n + 1]  # Urutkan dari yang terbesar ke terkecil
    return similar_queries

# 4. Mencari Entitas dari Query yang Mirip
def recommend_entities(data, query_index, similar_query_indices, entity_column='id'):
    """Mengambil entitas yang direkomendasikan dari query-query yang mirip"""
    similar_entities = data.iloc[similar_query_indices][entity_column].unique()
    return similar_entities

# Fungsi utama untuk menjalankan rekomendasi berbasis query
def query_based_recommendation(data, target_query, text_column='cleaned_description', entity_column='id', top_n=5):
    """
    Menjalankan rekomendasi berbasis query:
    1. Mencari query yang mirip dengan target query
    2. Merekomendasikan entitas yang di-klik dari query mirip
    """
    # TF-IDF Vectorization untuk semua query
    tfidf_matrix, vectorizer = tfidf_vectorize(data, text_column)

    # Hitung kemiripan antar query
    similarity_matrix = compute_query_similarity(tfidf_matrix)

    # Cari index dari query target
    target_query_index = data.index[data[text_column] == target_query].tolist()[0]

    # Cari query yang mirip
    similar_query_indices = find_similar_queries(target_query_index, similarity_matrix, top_n)

    # Rekomendasikan entitas dari query yang mirip
    recommended_entities = recommend_entities(data, target_query_index, similar_query_indices, entity_column)

    return recommended_entities

# Contoh data untuk menjalankan modeling
if __name__ == "__main__":
    # Contoh Data yang sudah diproses (Data Preprocessed)
    data_processed = pd.read_csv('/content/drive/MyDrive/DataKP/data_processed.csv')
    data_processed = data_processed[['id','cleaned_description']]
    # Rekomendasi entitas untuk query 'soal matematika kelas 10'
    target_query = 'soal matematika kelas 10'
    recommended_entities = query_based_recommendation(data_processed, target_query)

    # Output entitas yang direkomendasikan
    print(f"Entitas yang direkomendasikan untuk query '{target_query}': {recommended_entities}")
